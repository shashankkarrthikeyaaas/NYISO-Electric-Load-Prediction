{
 "cells": [
  {
   "cell_type": "code",
   "execution_count": 1,
   "metadata": {
    "ExecuteTime": {
     "end_time": "2018-05-27T07:01:46.758797Z",
     "start_time": "2018-05-27T07:01:46.751701Z"
    }
   },
   "outputs": [],
   "source": [
    "# The duration of data that is being cleaned and is to be stored\n",
    "period_of_data_cleaned = '16_17' # format = 'year' ; for 2017 : '2017'"
   ]
  },
  {
   "cell_type": "code",
   "execution_count": 2,
   "metadata": {
    "ExecuteTime": {
     "end_time": "2018-05-27T07:01:46.915452Z",
     "start_time": "2018-05-27T07:01:46.841390Z"
    }
   },
   "outputs": [],
   "source": [
    "#path to write pickle file(single zone data frame) to.\n",
    "path_for_writing = '/mnt/home/lp_pr/Results_Final2/'  \n",
    "from pprint import pprint\n",
    "# Path for reading the CSV files from.\n",
    "path_for_reading = '/home/lp_pr/Integrated Load/load/' \n",
    "path_for_reading_weather = '/home/lp_pr/Weather/'\n",
    "path_for_results = '/home/lp_pr/Results_Final2/'"
   ]
  },
  {
   "cell_type": "code",
   "execution_count": 5,
   "metadata": {
    "ExecuteTime": {
     "end_time": "2018-05-27T07:01:49.205698Z",
     "start_time": "2018-05-27T07:01:46.931303Z"
    }
   },
   "outputs": [
    {
     "ename": "ModuleNotFoundError",
     "evalue": "No module named 'keras'",
     "output_type": "error",
     "traceback": [
      "\u001b[0;31m---------------------------------------------------------------------------\u001b[0m",
      "\u001b[0;31mModuleNotFoundError\u001b[0m                       Traceback (most recent call last)",
      "\u001b[0;32m<ipython-input-5-f62a51ca1df2>\u001b[0m in \u001b[0;36m<module>\u001b[0;34m()\u001b[0m\n\u001b[1;32m     28\u001b[0m \u001b[0;32mfrom\u001b[0m \u001b[0msklearn\u001b[0m\u001b[0;34m.\u001b[0m\u001b[0mpreprocessing\u001b[0m \u001b[0;32mimport\u001b[0m \u001b[0mLabelEncoder\u001b[0m\u001b[0;34m\u001b[0m\u001b[0m\n\u001b[1;32m     29\u001b[0m \u001b[0;32mfrom\u001b[0m \u001b[0msklearn\u001b[0m\u001b[0;34m.\u001b[0m\u001b[0mmetrics\u001b[0m \u001b[0;32mimport\u001b[0m \u001b[0mmean_squared_error\u001b[0m\u001b[0;34m\u001b[0m\u001b[0m\n\u001b[0;32m---> 30\u001b[0;31m \u001b[0;32mfrom\u001b[0m \u001b[0mkeras\u001b[0m\u001b[0;34m.\u001b[0m\u001b[0mmodels\u001b[0m \u001b[0;32mimport\u001b[0m \u001b[0mSequential\u001b[0m\u001b[0;34m\u001b[0m\u001b[0m\n\u001b[0m\u001b[1;32m     31\u001b[0m \u001b[0;32mfrom\u001b[0m \u001b[0mkeras\u001b[0m\u001b[0;34m.\u001b[0m\u001b[0mlayers\u001b[0m \u001b[0;32mimport\u001b[0m \u001b[0mDense\u001b[0m\u001b[0;34m\u001b[0m\u001b[0m\n\u001b[1;32m     32\u001b[0m \u001b[0;32mfrom\u001b[0m \u001b[0mkeras\u001b[0m\u001b[0;34m.\u001b[0m\u001b[0mlayers\u001b[0m \u001b[0;32mimport\u001b[0m \u001b[0mLSTM\u001b[0m\u001b[0;34m\u001b[0m\u001b[0m\n",
      "\u001b[0;31mModuleNotFoundError\u001b[0m: No module named 'keras'"
     ]
    }
   ],
   "source": [
    "#Importing print function for compatability with python 3.\n",
    "\n",
    "from __future__ import print_function\n",
    "\n",
    "# Importing required libraries.\n",
    "\n",
    "import numpy as np\n",
    "import pandas as pd\n",
    "pd.set_option('display.max_columns',100)\n",
    "import os\n",
    "import pickle\n",
    "import matplotlib.pyplot as plt\n",
    "import calendar\n",
    "#import algorithms\n",
    "from sklearn.linear_model import Lasso,Ridge,ElasticNet\n",
    "from sklearn.ensemble import GradientBoostingRegressor,RandomForestRegressor\n",
    "from sklearn.neighbors import KNeighborsRegressor\n",
    "from sklearn.svm import SVR,SVC\n",
    "from sklearn.ensemble import ExtraTreesRegressor\n",
    "from sklearn.tree import DecisionTreeRegressor\n",
    "from sklearn.utils import check_array\n",
    "import datetime\n",
    "from sklearn.metrics import mean_absolute_error,r2_score\n",
    "from sklearn.utils import check_array\n",
    "from multiprocessing import Pool,cpu_count\n",
    "import seaborn as sns\n",
    "from sklearn.preprocessing import MinMaxScaler\n",
    "from sklearn.preprocessing import LabelEncoder\n",
    "from sklearn.metrics import mean_squared_error\n",
    "from keras.models import Sequential\n",
    "from keras.layers import Dense\n",
    "from keras.layers import LSTM\n",
    "from xgboost import XGBRegressor\n",
    "from skgarden import MondrianTreeRegressor\n"
   ]
  },
  {
   "cell_type": "code",
   "execution_count": 4,
   "metadata": {
    "ExecuteTime": {
     "end_time": "2018-05-27T07:01:49.212878Z",
     "start_time": "2018-05-27T07:01:49.208034Z"
    },
    "slideshow": {
     "slide_type": "slide"
    }
   },
   "outputs": [
    {
     "ename": "NameError",
     "evalue": "name 'XGBRegressor' is not defined",
     "output_type": "error",
     "traceback": [
      "\u001b[0;31m---------------------------------------------------------------------------\u001b[0m",
      "\u001b[0;31mNameError\u001b[0m                                 Traceback (most recent call last)",
      "\u001b[0;32m<ipython-input-4-51dd274d64c3>\u001b[0m in \u001b[0;36m<module>\u001b[0;34m()\u001b[0m\n\u001b[1;32m      1\u001b[0m \u001b[0;31m#dictionary of all algorithms to be used\u001b[0m\u001b[0;34m\u001b[0m\u001b[0;34m\u001b[0m\u001b[0m\n\u001b[0;32m----> 2\u001b[0;31m all_models = {'gb': XGBRegressor()\n\u001b[0m\u001b[1;32m      3\u001b[0m     \u001b[0;31m#'gb' : MondrianTreeRegressor()\u001b[0m\u001b[0;34m\u001b[0m\u001b[0;34m\u001b[0m\u001b[0m\n\u001b[1;32m      4\u001b[0m \u001b[0;31m#               'rf' : RandomForestRegressor(),\u001b[0m\u001b[0;34m\u001b[0m\u001b[0;34m\u001b[0m\u001b[0m\n\u001b[1;32m      5\u001b[0m \u001b[0;31m#               'etrees' : ExtraTreesRegressor(),\u001b[0m\u001b[0;34m\u001b[0m\u001b[0;34m\u001b[0m\u001b[0m\n",
      "\u001b[0;31mNameError\u001b[0m: name 'XGBRegressor' is not defined"
     ]
    }
   ],
   "source": [
    "#dictionary of all algorithms to be used \n",
    "all_models = {'gb': XGBRegressor()\n",
    "    #'gb' : MondrianTreeRegressor()\n",
    "#               'rf' : RandomForestRegressor(),\n",
    "#               'etrees' : ExtraTreesRegressor(),\n",
    "             }\n",
    "\n",
    "# List of all zones\n",
    "all_zones = ['CAPITL', 'CENTRL', 'DUNWOD', 'GENESE', 'HUD VL', 'LONGIL',\n",
    "             'MHK VL', 'MILLWD', 'N.Y.C.', 'NORTH', 'WEST']"
   ]
  },
  {
   "cell_type": "code",
   "execution_count": 5,
   "metadata": {
    "ExecuteTime": {
     "end_time": "2018-05-27T07:01:50.390411Z",
     "start_time": "2018-05-27T07:01:50.321724Z"
    }
   },
   "outputs": [],
   "source": [
    "#Defining holidays\n",
    "months = [1,2,9,10,11,12]\n",
    "years = [2012,2013,2014,2015,2016,2017]\n",
    "numbers = [1,7,6,5,4,3,2]\n",
    "pres_day, labor_day,columbus_day,thanksgiving_day = [], [], [], []\n",
    "hols = []\n",
    "for i in years:\n",
    "    pres_day.append(14 + numbers[datetime.datetime(i,2,1).weekday()])\n",
    "    columbus_day.append(7 + numbers[datetime.datetime(i,10,1).weekday()])\n",
    "    labor_day.append(datetime.datetime(i,9,1).day + numbers[datetime.datetime(i,9,1).weekday()] - 1)\n",
    "pres_day = pres_day + [2]\n",
    "columbus_day = columbus_day + [9]\n",
    "labor_day = labor_day + [10]\n",
    "numbers = [4,3,2,1,7,6,5]\n",
    "for i in years:\n",
    "    thanksgiving_day.append(21 + numbers[datetime.datetime(i,11,1).weekday()])\n",
    "thanksgiving_day = thanksgiving_day + [11]\n",
    "hols.append([1,1,1,1,1,1] + [1])\n",
    "hols.append(pres_day)\n",
    "hols.append(labor_day)\n",
    "hols.append(columbus_day)\n",
    "hols.append(thanksgiving_day)\n",
    "hols.append([25,25,25,25,25,25] + [12])\n",
    "\n",
    "keys = ['new_year','pres_day','lab_day','col_day','thanks_day','chris']\n",
    "hols = {key: hols[index] for index,key in enumerate(keys)}"
   ]
  },
  {
   "cell_type": "code",
   "execution_count": 6,
   "metadata": {
    "ExecuteTime": {
     "end_time": "2018-05-27T07:01:51.400117Z",
     "start_time": "2018-05-27T07:01:51.371735Z"
    }
   },
   "outputs": [],
   "source": [
    "# Function to load all data into a dataframe \n",
    "def load_data(monthly_files):\n",
    "    df = pd.DataFrame(columns=['Time Stamp','Time Zone', 'Name','PTID','Integrated Load'])\n",
    "\n",
    "    for file_name in monthly_files:\n",
    "        if '.' not in file_name:\n",
    "            files = os.listdir(path_for_reading+ file_name)\n",
    "            files.sort()\n",
    "            for day_file in files:\n",
    "                try:\n",
    "                    temp_df = pd.read_csv(path_for_reading+ file_name +'/'+day_file)\n",
    "                    df = df.append(temp_df,ignore_index=True)\n",
    "                except:\n",
    "                    print(f'Error in {day_file}')\n",
    "                    print(\"hi\")\n",
    "    return df "
   ]
  },
  {
   "cell_type": "code",
   "execution_count": 7,
   "metadata": {
    "ExecuteTime": {
     "end_time": "2018-05-27T07:01:51.992362Z",
     "start_time": "2018-05-27T07:01:51.921897Z"
    }
   },
   "outputs": [],
   "source": [
    "# funcion to take the raw loaded data and return the final form of dataframe required with split timestamps\n",
    "def clean_data(df):\n",
    "    # Create columns for each of the load zones with their respective loads in place for a given time stamp\n",
    "    all_zones = df.Name.unique()\n",
    "    \n",
    "    for zone in all_zones:\n",
    "        df[zone] = (df.Name == zone).astype(int)\n",
    "        df[zone] = df[zone] * df['Integrated Load']\n",
    "    \n",
    "    # Group using Time stamp and drop the unnecessary columns and reset the index of the dataframe\n",
    "    df = df.drop(['PTID','Time Zone'],axis=1).groupby('Time Stamp',sort = False).sum().drop('Integrated Load',axis=1).reset_index()\n",
    "\n",
    "    # Separation of Time Stamp\n",
    "    df['Week_number'] = pd.to_datetime(df['Time Stamp']).dt.week\n",
    "    df['dayofweek'] = pd.to_datetime(df['Time Stamp']).dt.dayofweek\n",
    "    df['Year'] = pd.DatetimeIndex(df['Time Stamp']).year\n",
    "    df['Month'] = pd.DatetimeIndex(df['Time Stamp']).month\n",
    "    df['Day'] = pd.DatetimeIndex(df['Time Stamp']).day\n",
    "    df['Hour'] = pd.DatetimeIndex(df['Time Stamp']).hour\n",
    "    df = df.drop('Time Stamp',axis=1)\n",
    "    df['Weekends'] = ((df.dayofweek == 5) | (df.dayofweek == 6)).astype(int)\n",
    "\n",
    "    # All-Zone load data for the month with time stamp\n",
    "    with open(path_for_writing + 'NYC'.format(period_of_data_cleaned),'wb') as f:\n",
    "        pickle.dump(df,f)\n",
    "    return df"
   ]
  },
  {
   "cell_type": "code",
   "execution_count": 8,
   "metadata": {
    "ExecuteTime": {
     "end_time": "2018-05-27T07:02:02.988283Z",
     "start_time": "2018-05-27T07:02:02.981710Z"
    }
   },
   "outputs": [],
   "source": [
    "# Function to calculate MAPE\n",
    "def mean_absolute_percentage_error(y_true, y_pred):\n",
    "#     print(y_pred.shape)\n",
    "    return (np.mean(np.abs(((y_true - y_pred) / y_true)) * 100))"
   ]
  },
  {
   "cell_type": "code",
   "execution_count": 9,
   "metadata": {
    "ExecuteTime": {
     "end_time": "2018-05-27T07:02:03.101965Z",
     "start_time": "2018-05-27T07:02:02.991749Z"
    }
   },
   "outputs": [],
   "source": [
    "def prev_day(day,month):\n",
    "    if day!=1:\n",
    "        prevday=day-1;\n",
    "    else:\n",
    "        if month==1:\n",
    "            prevday=days_in_month(12);\n",
    "        else:\n",
    "            prevday=days_in_month(month-1);\n",
    "    return prevday"
   ]
  },
  {
   "cell_type": "code",
   "execution_count": 10,
   "metadata": {
    "ExecuteTime": {
     "end_time": "2018-05-27T07:02:30.636090Z",
     "start_time": "2018-05-27T07:02:30.551365Z"
    }
   },
   "outputs": [],
   "source": [
    "# function to calculate the results for all zones  for a year for all algorithms. \n",
    "# Returns a dictionary with months as keys and the results for each month as dataframe\n",
    "\n",
    "def yearly_results(data, zone, year, train_interval,history):\n",
    "    final_results_mae = {}\n",
    "    final_results_mape = {}\n",
    "    r2_graph= []\n",
    "    mape_graph = []\n",
    "    for i in range(1,13) : \n",
    "        final_results_mae[i] = {}\n",
    "        final_results_mape[i] = {}\n",
    "    for month_ in range(1,13):\n",
    "        mape_dict = { 'gb' : []\n",
    "                    }\n",
    "        mae_dict  = { 'gb' : []\n",
    "                    }\n",
    "        for test_day in range(1,days_in_month(month_)+1):\n",
    "            if (not(test_day == 28) & (month_ == 1) & (year == 2016)):\n",
    "#             print('date : {}-{}-{}'.format(test_day,month_,year))\n",
    "                X_train,y_train,X_test,y_test = get_train_test_vectors(data,zone,test_day,month_,year,train_interval,history)\n",
    "    #             print(y_train.isnull().sum())\n",
    "    #             print(len((X_train)),len((ytrain)),len((xtest)),len((ytest))) \n",
    "                mape_dict,mae_dict,flag_for_r2,score,error = fit_predict_mape_all_models(X_train, X_test, y_train, y_test,mape_dict,mae_dict)\n",
    "                r2_graph.append(score)\n",
    "                mape_graph.append(error)\n",
    "                if(flag_for_r2 == True):\n",
    "                    print('date : {}-{}-{}'.format(test_day,month_,year))\n",
    "\n",
    "        for model in all_models.keys():\n",
    "            mape_dict[model] = (sum(mape_dict[model])/len(mape_dict[model]))\n",
    "            mae_dict[model] = (sum(mae_dict[model])/len(mae_dict[model]))            \n",
    "        final_results_mae[month_] = mae_dict\n",
    "        final_results_mape[month_] = mape_dict\n",
    "    return final_results_mape,final_results_mae,r2_graph,mape_graph"
   ]
  },
  {
   "cell_type": "code",
   "execution_count": 73,
   "metadata": {
    "ExecuteTime": {
     "end_time": "2018-05-27T08:42:54.102382Z",
     "start_time": "2018-05-27T08:42:53.898904Z"
    }
   },
   "outputs": [],
   "source": [
    "#Trial run for proper history\n",
    "def get_train_test_vectors(df, zone_name, test_day, test_month, test_year, train_interval,history):\n",
    "    X_train= pd.DataFrame()\n",
    "    y_train = pd.DataFrame()\n",
    "    X_test = df[['Day','Hour','Month','Year','FeelsLikeC','Weekends','Seasons']][(df.Day == test_day) & (df.Month == test_month) & (df.Year==test_year)]\n",
    "    y_test = df['{}'.format(zone_name)][(df.Day == test_day) & (df.Month == test_month) & (df.Year==test_year)]\n",
    "\n",
    "    #Training for train_inteval days before the test_day\n",
    "    day_variable = 1\n",
    "    day = test_day\n",
    "    month = test_month\n",
    "    year = test_year\n",
    "    for train_time in range(1,train_interval+1):\n",
    "        day -= 1\n",
    "        if(day > 0):\n",
    "            pass\n",
    "        else:\n",
    "            year, month = (test_year-1, 12) if (month == 1) else (test_year, test_month-1)\n",
    "            day = days_in_month(month) + 1 - train_time\n",
    "        for hol in hols.values():\n",
    "            if ((month == hol[6]) & (day == hol[years.index(year)])):\n",
    "                continue_var = True\n",
    "            else:\n",
    "                continue_var = False\n",
    "        if continue_var:\n",
    "            continue    \n",
    "        X_train = pd.concat([X_train.reset_index(drop=True),df[['Day','Hour','Month','Year','FeelsLikeC','Weekends','Seasons']][(df.Day == day) & (df.Month == month) & (df.Year == year)]])\n",
    "        y_train = pd.concat([y_train.reset_index(drop=True),df['N.Y.C.'][(df.Day == day) & (df.Month == month) & (df.Year==year)].reset_index(drop=True)])\n",
    "    #Add 1 year of history only for normal days    \n",
    "    if (not continue_var):\n",
    "        X_train = pd.concat([X_train.reset_index(drop=True),df[['Day','Hour','Month','Year','FeelsLikeC','Weekends','Seasons']][(df.Year == test_year-1)]])\n",
    "        y_train = pd.concat([y_train.reset_index(drop=True), df['N.Y.C.'][(df.Year == test_year-1)&(df.Day == day) & (df.Month == month)].reset_index(drop=True)])\n",
    "    \n",
    "    #Train separately for holidays with only past holidays as history\n",
    "    indx = years.index(test_year)\n",
    "    for i in hols:\n",
    "        if ((test_day == hols[i][indx]) & (test_month == hols[i][6])):\n",
    "            for j in range(2012,test_year):\n",
    "                X_train = pd.concat([X_train.reset_index(drop=True), df[['Day','Hour','Month','Year','FeelsLikeC','Weekends','Seasons']][(df.Year == j) & (df.Month == hols[i][6]) & (df.Day == hols[i][years.index(j)])]])\n",
    "                y_train = pd.concat([y_train.reset_index(drop=True), df['N.Y.C.'][(df.Year == j) & (df.Month == hols[i][6]) & (df.Day == hols[i][years.index(j)])].reset_index(drop=True)])        \n",
    "            return X_train,y_train,X_test,y_test        \n",
    "    \n",
    "    y_train = y_train.reset_index(drop=True)\n",
    "    X_train = X_train.reset_index(drop=True)    \n",
    "    return X_train,y_train,X_test,y_test"
   ]
  },
  {
   "cell_type": "code",
   "execution_count": 12,
   "metadata": {
    "ExecuteTime": {
     "end_time": "2018-05-27T07:02:30.969345Z",
     "start_time": "2018-05-27T07:02:30.818749Z"
    }
   },
   "outputs": [],
   "source": [
    "def days_in_month(month):\n",
    "    \n",
    "    if month in [1,3,5,7,8,10,12]:\n",
    "        end_day=31\n",
    "    elif month in [4,6,9,11]:\n",
    "        end_day=30\n",
    "    elif month==2:\n",
    "        end_day=28\n",
    "    return end_day"
   ]
  },
  {
   "cell_type": "code",
   "execution_count": 13,
   "metadata": {
    "ExecuteTime": {
     "end_time": "2018-05-27T07:02:31.090997Z",
     "start_time": "2018-05-27T07:02:30.972769Z"
    }
   },
   "outputs": [],
   "source": [
    "# Function to Train and test all models\n",
    "\n",
    "def fit_predict_mape_all_models(X_train,X_test,y_train,y_test,mape,mae):               \n",
    "    for model in all_models.keys():\n",
    "        regressor = all_models[model]\n",
    "#         print(len(np.ravel(y_train)))\n",
    "#         print(y_train.isnull())\n",
    "        regressor.fit(X_train,np.ravel(y_train))\n",
    "        predicted_values = regressor.predict(X_test)\n",
    "        r2= r2_score(y_test,predicted_values)\n",
    "        error = mean_absolute_percentage_error(y_test,predicted_values)\n",
    "        if((r2>=0)):\n",
    "            mae[model].append(mean_absolute_error(y_test,predicted_values)) \n",
    "            mape[model].append(mean_absolute_percentage_error(y_test,predicted_values)) \n",
    "        else:\n",
    "            predicted_values = pd.DataFrame(predicted_values)\n",
    "            #plt.plot(y_test.reset_index(drop=True),'b')\n",
    "            #plt.plot(predicted_values.reset_index(drop=True),'r')\n",
    "            #plt.show()\n",
    "\n",
    "# Plot y_test & predicted values\n",
    "        #flag= False\n",
    "        print('R^2 : {}'.format(r2_score(y_test,predicted_values)))\n",
    "        flag = True\n",
    "#         plt.plot(y_test.reset_index(drop=True),'b')\n",
    "#         plt.plot(predicted_values.reset_index(drop=True),'r')\n",
    "#         plt.show()\n",
    "    return mape,mae,flag,r2,error"
   ]
  },
  {
   "cell_type": "code",
   "execution_count": 74,
   "metadata": {
    "ExecuteTime": {
     "end_time": "2018-05-27T08:43:10.481241Z",
     "start_time": "2018-05-27T08:43:10.428648Z"
    }
   },
   "outputs": [],
   "source": [
    "# Function to get final results and store\n",
    "\n",
    "def get_and_store_results(inp):\n",
    "    year= 2017\n",
    "    df,train_interval,history = inp\n",
    "    complete_results_mape= {}\n",
    "    complete_results_mae= {}    \n",
    "    for zone_name in ['N.Y.C.']:\n",
    "        print(\"Getting results for {}...\".format(zone_name))\n",
    "        complete_results_mape[zone_name],complete_results_mae[zone_name] ,r2_graph,mape_graph= yearly_results(df,zone_name,year,train_interval,history)\n",
    "    print(\"Completed.\")\n",
    "#     plt.plot(r2_graph,'b')\n",
    "#     plt.plot(mape_graph,'r')\n",
    "#     plt.show()\n",
    "\n",
    "    \n",
    "#     Results for 14 days training and 1 day testing for 2017, all zones, 7 algorithms, stored in 'Results_2017.xlsx'\n",
    "    writer = pd.ExcelWriter(path_for_writing+'test123.xlsx'.format(year,train_interval))\n",
    "    for zone_name in ['N.Y.C.']:\n",
    "        pd.DataFrame(complete_results_mape[zone_name]).to_excel(writer,sheet_name = 'MAPE_{}'.format(train_interval))\n",
    "        pd.DataFrame(complete_results_mae[zone_name]).to_excel(writer,sheet_name = 'MAE_{}'.format(train_interval))\n",
    "    writer.save()\n",
    "    \n",
    "   \n",
    "    return complete_results_mape,complete_results_mae"
   ]
  },
  {
   "cell_type": "code",
   "execution_count": 11,
   "metadata": {
    "ExecuteTime": {
     "end_time": "2018-05-15T11:31:49.453191Z",
     "start_time": "2018-05-15T11:31:49.400119Z"
    }
   },
   "outputs": [],
   "source": [
    "get_and_store_results(df,7)"
   ]
  },
  {
   "cell_type": "code",
   "execution_count": 52,
   "metadata": {
    "ExecuteTime": {
     "end_time": "2018-04-14T13:08:24.156659Z",
     "start_time": "2018-04-14T13:08:24.141340Z"
    }
   },
   "outputs": [],
   "source": [
    "# #ONLY RUN WHEN CITY NEEDS TO BE CHANGED\n",
    "\n",
    "\n",
    "# # Store all the files for the month as a sorted list.\n",
    "# monthly_files = os.listdir(path_for_reading)\n",
    "# monthly_files.sort()\n",
    "\n",
    "# #Get temperature and humidity data, remove 2 a.m. data to match with load data\n",
    "# weather_df = pd.DataFrame()\n",
    "# for i in range(2012,2018):\n",
    "#     weather_df = weather_df.append(pd.read_csv('/home/lp_pr/Weather/weather_all_'+'{}'.format(i),index_col=0))\n",
    "# weather_df.drop([1682,10418,19154,27890,36794,45530],axis = 0,inplace=True)\n",
    "# weather_df.reset_index(drop=True,inplace = True)\n",
    "\n",
    "# # call functions to load and clean data, keep only NYC\n",
    "# df = load_data(monthly_files)\n",
    "# df = clean_data(df)\n",
    "# df = df.drop(['CAPITL','CENTRL','DUNWOD','GENESE','HUD VL', 'LONGIL', 'MHK VL', 'WEST', 'NORTH', 'MILLWD'], axis=1)\n",
    "# df = df.drop(['Name','Unnamed: 0','Unnamed: 1'],axis=1)\n",
    "# df.reset_index(drop=True, inplace = True)\n",
    "\n",
    "# #Concatenate temperature and humidity\n",
    "# test_df = pd.concat([df, weather_df.Temperature,weather_df.Humidity,weather_df.DewPoint,weather_df.FeelsLikeC,weather_df.WindChillC,weather_df.WindspeedKmph,weather_df.cloudcover], axis = 1)\n",
    "# #Pickle temp+humidity+load for NYC\n",
    "# test_df.drop([35730],axis = 0, inplace = True)\n",
    "# test_df.reset_index(drop=True, inplace = True)\n",
    "# print(\"Concatenated temperature and load\")\n",
    "# #Pickle temp+humidity+load for NYC\n",
    "# with open(path_for_writing + 'data_for_NYC_new','wb') as f:\n",
    "#     pickle.dump(test_df,f)"
   ]
  },
  {
   "cell_type": "code",
   "execution_count": 15,
   "metadata": {
    "ExecuteTime": {
     "end_time": "2018-05-27T07:02:31.665182Z",
     "start_time": "2018-05-27T07:02:31.262215Z"
    }
   },
   "outputs": [],
   "source": [
    "#Pickle df for mentioned city\n",
    "with open('/mnt/home/lp_pr/Results/data_for_NYC_seasons','rb') as f:\n",
    "    df=pickle.load(f)"
   ]
  },
  {
   "cell_type": "code",
   "execution_count": 152,
   "metadata": {
    "ExecuteTime": {
     "end_time": "2018-04-16T11:57:08.236579Z",
     "start_time": "2018-04-16T11:57:08.228732Z"
    }
   },
   "outputs": [],
   "source": [
    "corr_df = df[['N.Y.C.','Temperature','Humidity', 'DewPoint', 'FeelsLikeC', 'WindChillC','WindspeedKmph', 'cloudcover']]"
   ]
  },
  {
   "cell_type": "code",
   "execution_count": 153,
   "metadata": {
    "ExecuteTime": {
     "end_time": "2018-04-16T11:57:09.645085Z",
     "start_time": "2018-04-16T11:57:09.074400Z"
    }
   },
   "outputs": [
    {
     "data": {
      "image/png": "[encoded data removed]",
      "text/plain": [
       "<matplotlib.figure.Figure at 0x7ff9dc03b4e0>"
      ]
     },
     "metadata": {},
     "output_type": "display_data"
    }
   ],
   "source": [
    "correlations = corr_df.corr()\n",
    "# correlations\n",
    "mask = np.zeros_like(correlations, dtype=np.bool)\n",
    "mask[np.triu_indices_from(mask)] = True\n",
    "plt.figure(figsize=(8,8))\n",
    "sns.heatmap(correlations*100,mask = mask, annot = True, fmt = '.0f', cbar = True)\n",
    "sns.set_style(\"ticks\")"
   ]
  },
  {
   "cell_type": "code",
   "execution_count": 18,
   "metadata": {
    "ExecuteTime": {
     "end_time": "2018-04-05T04:35:22.896054Z",
     "start_time": "2018-04-05T04:35:22.887150Z"
    }
   },
   "outputs": [],
   "source": [
    "#plt.plot(df['N.Y.C.'][(df.Year == 2012) & (df.Month == 5) & (df.Day == 28)].reset_index(drop=True),'r')\n",
    "#plt.plot(df['N.Y.C.'][(df.Year == 2013) & (df.Month == 5) & (df.Day == 27)].reset_index(drop=True),'b')\n",
    "#plt.plot(df['N.Y.C.'][(df.Year == 2014) & (df.Month == 5) & (df.Day == 26)].reset_index(drop=True),'g')\n",
    "#plt.plot(df['N.Y.C.'][(df.Year == 2015) & (df.Month == 5) & (df.Day == 25)].reset_index(drop=True),'o')\n",
    "#plt.plot(df['N.Y.C.'][(df.Year == 2016) & (df.Month == 5) & (df.Day == 30)].reset_index(drop=True))\n",
    "# plt.plot(df['N.Y.C.'][(df.Year == 2014) & (df.Month == 12) & (df.Day == 25)].reset_index(drop=True),'b')\n",
    "# plt.plot(df['N.Y.C.'][(df.Year == 2015) & (df.Month == 12) & (df.Day == 25)].reset_index(drop=True),'g')\n",
    "# plt.plot(df['N.Y.C.'][(df.Year == 2016) & (df.Month == 12) & (df.Day == 25)].reset_index(drop=True),'y')\n",
    "# plt.plot(df['N.Y.C.'][(df.Year == 2017) & (df.Month == 12) & (df.Day == 25)].reset_index(drop=True))\n",
    "# plt.plot(df['N.Y.C.'][(df.Year == 2014) & (df.Month == 12) & (df.Day == 25)].reset_index(drop=True))\n",
    "# plt.plot(df['N.Y.C.'][(df.Year == 2015) & (df.Month == 12) & (df.Day == 25)].reset_index(drop=True))\n",
    "# plt.plot(df['N.Y.C.'][(df.Year == 2016) & (df.Month == 12) & (df.Day == 25)].reset_index(drop=True))\n",
    "# plt.plot(df['N.Y.C.'][(df.Year == 2017) & (df.Month == 12) & (df.Day == 25)].reset_index(drop=True),'b')\n",
    "#plt.show()\n"
   ]
  },
  {
   "cell_type": "code",
   "execution_count": 23,
   "metadata": {
    "ExecuteTime": {
     "end_time": "2018-05-25T10:18:09.726473Z",
     "start_time": "2018-05-25T10:18:09.719924Z"
    },
    "scrolled": true
   },
   "outputs": [],
   "source": [
    "result = []\n",
    "params = []\n",
    "# for i in range(1,15):\n",
    "params.append((df,7,0))"
   ]
  },
  {
   "cell_type": "code",
   "execution_count": 75,
   "metadata": {
    "ExecuteTime": {
     "end_time": "2018-05-27T08:43:33.475801Z",
     "start_time": "2018-05-27T08:43:31.198899Z"
    },
    "scrolled": true
   },
   "outputs": [
    {
     "name": "stdout",
     "output_type": "stream",
     "text": [
      "Getting results for N.Y.C....\n",
      "R^2 : 0.9298293362690921\n",
      "date : 1-1-2017\n",
      "R^2 : 0.3543809639113563\n",
      "date : 2-1-2017\n",
      "R^2 : 0.5182489398360316\n",
      "date : 3-1-2017\n",
      "R^2 : 0.963277487851081\n",
      "date : 4-1-2017\n",
      "R^2 : 0.6429359178587634\n",
      "date : 5-1-2017\n",
      "R^2 : 0.9852144565699295\n",
      "date : 6-1-2017\n",
      "R^2 : 0.8187082582378508\n",
      "date : 7-1-2017\n",
      "b'[14:13:33] src/objective/regression_obj.cc:90: Check failed: (preds.size()) == (info.labels.size()) labels are not correctly providedpreds.size=8927, label.size=192'\n"
     ]
    }
   ],
   "source": [
    "pool = Pool(cpu_count()-1)\n",
    "try:\n",
    "    pool.map(get_and_store_results,params)\n",
    "except Exception as e:\n",
    "    print(e)\n",
    "finally:\n",
    "    pool.close()\n",
    "    pool.join()"
   ]
  },
  {
   "cell_type": "code",
   "execution_count": 110,
   "metadata": {
    "ExecuteTime": {
     "end_time": "2018-04-14T13:32:43.443433Z",
     "start_time": "2018-04-14T13:32:43.438027Z"
    }
   },
   "outputs": [
    {
     "name": "stdout",
     "output_type": "stream",
     "text": [
      "3.438866690919296\n"
     ]
    }
   ],
   "source": [
    "sum_ = 0\n",
    "for i in result[0][0]['N.Y.C.'].values():\n",
    "    sum_ += i['gb']\n",
    "sum_/=12\n",
    "print(sum_)\n"
   ]
  },
  {
   "cell_type": "code",
   "execution_count": 21,
   "metadata": {
    "ExecuteTime": {
     "end_time": "2018-04-04T17:39:57.892537Z",
     "start_time": "2018-04-04T17:39:57.833257Z"
    }
   },
   "outputs": [
    {
     "data": {
      "text/html": [
       "<div>\n",
       "<style>\n",
       "    .dataframe thead tr:only-child th {\n",
       "        text-align: right;\n",
       "    }\n",
       "\n",
       "    .dataframe thead th {\n",
       "        text-align: left;\n",
       "    }\n",
       "\n",
       "    .dataframe tbody tr th {\n",
       "        vertical-align: top;\n",
       "    }\n",
       "</style>\n",
       "<table border=\"1\" class=\"dataframe\">\n",
       "  <thead>\n",
       "    <tr style=\"text-align: right;\">\n",
       "      <th></th>\n",
       "      <th>N.Y.C.</th>\n",
       "      <th>nan</th>\n",
       "      <th>Week_number</th>\n",
       "      <th>dayofweek</th>\n",
       "      <th>Year</th>\n",
       "      <th>Month</th>\n",
       "      <th>Day</th>\n",
       "      <th>Hour</th>\n",
       "      <th>Weekends</th>\n",
       "      <th>Temperature</th>\n",
       "      <th>Humidity</th>\n",
       "      <th>DewPoint</th>\n",
       "      <th>FeelsLikeC</th>\n",
       "      <th>WindChillC</th>\n",
       "      <th>WindspeedKmph</th>\n",
       "      <th>cloudcover</th>\n",
       "      <th>Holidays</th>\n",
       "      <th>Seasons</th>\n",
       "      <th>Sleep</th>\n",
       "      <th>Morning</th>\n",
       "      <th>Evening</th>\n",
       "    </tr>\n",
       "  </thead>\n",
       "  <tbody>\n",
       "    <tr>\n",
       "      <th>0</th>\n",
       "      <td>4937.5</td>\n",
       "      <td>0.0</td>\n",
       "      <td>52.0</td>\n",
       "      <td>6.0</td>\n",
       "      <td>2012.0</td>\n",
       "      <td>1.0</td>\n",
       "      <td>1.0</td>\n",
       "      <td>0.0</td>\n",
       "      <td>1.0</td>\n",
       "      <td>6.0</td>\n",
       "      <td>93.0</td>\n",
       "      <td>5.0</td>\n",
       "      <td>3.0</td>\n",
       "      <td>3.0</td>\n",
       "      <td>16.0</td>\n",
       "      <td>40.0</td>\n",
       "      <td>0</td>\n",
       "      <td>2</td>\n",
       "      <td>1</td>\n",
       "      <td>0</td>\n",
       "      <td>0</td>\n",
       "    </tr>\n",
       "    <tr>\n",
       "      <th>1</th>\n",
       "      <td>4752.1</td>\n",
       "      <td>0.0</td>\n",
       "      <td>52.0</td>\n",
       "      <td>6.0</td>\n",
       "      <td>2012.0</td>\n",
       "      <td>1.0</td>\n",
       "      <td>1.0</td>\n",
       "      <td>1.0</td>\n",
       "      <td>1.0</td>\n",
       "      <td>5.0</td>\n",
       "      <td>95.0</td>\n",
       "      <td>4.0</td>\n",
       "      <td>2.0</td>\n",
       "      <td>2.0</td>\n",
       "      <td>13.0</td>\n",
       "      <td>60.0</td>\n",
       "      <td>0</td>\n",
       "      <td>2</td>\n",
       "      <td>1</td>\n",
       "      <td>0</td>\n",
       "      <td>0</td>\n",
       "    </tr>\n",
       "    <tr>\n",
       "      <th>2</th>\n",
       "      <td>4542.6</td>\n",
       "      <td>0.0</td>\n",
       "      <td>52.0</td>\n",
       "      <td>6.0</td>\n",
       "      <td>2012.0</td>\n",
       "      <td>1.0</td>\n",
       "      <td>1.0</td>\n",
       "      <td>2.0</td>\n",
       "      <td>1.0</td>\n",
       "      <td>4.0</td>\n",
       "      <td>97.0</td>\n",
       "      <td>4.0</td>\n",
       "      <td>2.0</td>\n",
       "      <td>2.0</td>\n",
       "      <td>10.0</td>\n",
       "      <td>80.0</td>\n",
       "      <td>0</td>\n",
       "      <td>2</td>\n",
       "      <td>1</td>\n",
       "      <td>0</td>\n",
       "      <td>0</td>\n",
       "    </tr>\n",
       "    <tr>\n",
       "      <th>3</th>\n",
       "      <td>4357.7</td>\n",
       "      <td>0.0</td>\n",
       "      <td>52.0</td>\n",
       "      <td>6.0</td>\n",
       "      <td>2012.0</td>\n",
       "      <td>1.0</td>\n",
       "      <td>1.0</td>\n",
       "      <td>3.0</td>\n",
       "      <td>1.0</td>\n",
       "      <td>3.0</td>\n",
       "      <td>99.0</td>\n",
       "      <td>3.0</td>\n",
       "      <td>1.0</td>\n",
       "      <td>1.0</td>\n",
       "      <td>7.0</td>\n",
       "      <td>100.0</td>\n",
       "      <td>0</td>\n",
       "      <td>2</td>\n",
       "      <td>1</td>\n",
       "      <td>0</td>\n",
       "      <td>0</td>\n",
       "    </tr>\n",
       "    <tr>\n",
       "      <th>4</th>\n",
       "      <td>4275.5</td>\n",
       "      <td>0.0</td>\n",
       "      <td>52.0</td>\n",
       "      <td>6.0</td>\n",
       "      <td>2012.0</td>\n",
       "      <td>1.0</td>\n",
       "      <td>1.0</td>\n",
       "      <td>4.0</td>\n",
       "      <td>1.0</td>\n",
       "      <td>3.0</td>\n",
       "      <td>99.0</td>\n",
       "      <td>3.0</td>\n",
       "      <td>1.0</td>\n",
       "      <td>1.0</td>\n",
       "      <td>6.0</td>\n",
       "      <td>100.0</td>\n",
       "      <td>0</td>\n",
       "      <td>2</td>\n",
       "      <td>1</td>\n",
       "      <td>0</td>\n",
       "      <td>0</td>\n",
       "    </tr>\n",
       "  </tbody>\n",
       "</table>\n",
       "</div>"
      ],
      "text/plain": [
       "   N.Y.C.  NaN  Week_number  dayofweek    Year  Month  Day  Hour  Weekends  \\\n",
       "0  4937.5  0.0         52.0        6.0  2012.0    1.0  1.0   0.0       1.0   \n",
       "1  4752.1  0.0         52.0        6.0  2012.0    1.0  1.0   1.0       1.0   \n",
       "2  4542.6  0.0         52.0        6.0  2012.0    1.0  1.0   2.0       1.0   \n",
       "3  4357.7  0.0         52.0        6.0  2012.0    1.0  1.0   3.0       1.0   \n",
       "4  4275.5  0.0         52.0        6.0  2012.0    1.0  1.0   4.0       1.0   \n",
       "\n",
       "   Temperature  Humidity  DewPoint  FeelsLikeC  WindChillC  WindspeedKmph  \\\n",
       "0          6.0      93.0       5.0         3.0         3.0           16.0   \n",
       "1          5.0      95.0       4.0         2.0         2.0           13.0   \n",
       "2          4.0      97.0       4.0         2.0         2.0           10.0   \n",
       "3          3.0      99.0       3.0         1.0         1.0            7.0   \n",
       "4          3.0      99.0       3.0         1.0         1.0            6.0   \n",
       "\n",
       "   cloudcover  Holidays  Seasons  Sleep  Morning  Evening  \n",
       "0        40.0         0        2      1        0        0  \n",
       "1        60.0         0        2      1        0        0  \n",
       "2        80.0         0        2      1        0        0  \n",
       "3       100.0         0        2      1        0        0  \n",
       "4       100.0         0        2      1        0        0  "
      ]
     },
     "execution_count": 21,
     "metadata": {},
     "output_type": "execute_result"
    }
   ],
   "source": [
    "#addition of micro features to split the day\n",
    "new_df = df\n",
    "new_df['Sleep'] = ((new_df.Hour >=0) & (new_df.Hour <=5)).astype(int)\n",
    "new_df['Morning'] = ((new_df.Hour >5) & (new_df.Hour <=15)).astype(int)\n",
    "new_df['Evening'] = ((new_df.Hour >15)).astype(int)\n",
    "new_df.head()"
   ]
  },
  {
   "cell_type": "code",
   "execution_count": 22,
   "metadata": {
    "ExecuteTime": {
     "end_time": "2018-04-04T17:40:10.503375Z",
     "start_time": "2018-04-04T17:40:10.281124Z"
    },
    "collapsed": true
   },
   "outputs": [
    {
     "name": "stderr",
     "output_type": "stream",
     "text": [
      "/opt/anaconda/lib/python3.6/site-packages/ipykernel/__main__.py:1: SettingWithCopyWarning: \n",
      "A value is trying to be set on a copy of a slice from a DataFrame\n",
      "\n",
      "See the caveats in the documentation: http://pandas.pydata.org/pandas-docs/stable/indexing.html#indexing-view-versus-copy\n",
      "  if __name__ == '__main__':\n",
      "/opt/anaconda/lib/python3.6/site-packages/ipykernel/__main__.py:2: SettingWithCopyWarning: \n",
      "A value is trying to be set on a copy of a slice from a DataFrame\n",
      "\n",
      "See the caveats in the documentation: http://pandas.pydata.org/pandas-docs/stable/indexing.html#indexing-view-versus-copy\n",
      "  from ipykernel import kernelapp as app\n",
      "/opt/anaconda/lib/python3.6/site-packages/ipykernel/__main__.py:3: SettingWithCopyWarning: \n",
      "A value is trying to be set on a copy of a slice from a DataFrame\n",
      "\n",
      "See the caveats in the documentation: http://pandas.pydata.org/pandas-docs/stable/indexing.html#indexing-view-versus-copy\n",
      "  app.launch_new_instance()\n",
      "/opt/anaconda/lib/python3.6/site-packages/ipykernel/__main__.py:4: SettingWithCopyWarning: \n",
      "A value is trying to be set on a copy of a slice from a DataFrame\n",
      "\n",
      "See the caveats in the documentation: http://pandas.pydata.org/pandas-docs/stable/indexing.html#indexing-view-versus-copy\n"
     ]
    }
   ],
   "source": [
    "df['Seasons'][(df.Month==9)|(df.Month==10)|(df.Month==11)] = 1 #fall\n",
    "df['Seasons'][(df.Month==12)|(df.Month==1)|(df.Month==2)] = 2 #winter\n",
    "df['Seasons'][(df.Month==3)|(df.Month==4)|(df.Month==5)] = 3  #spring\n",
    "df['Seasons'][(df.Month==6)|(df.Month==7)|(df.Month==8)] = 4  #summer"
   ]
  },
  {
   "cell_type": "code",
   "execution_count": 23,
   "metadata": {
    "ExecuteTime": {
     "end_time": "2018-04-04T17:40:17.139527Z",
     "start_time": "2018-04-04T17:40:17.120431Z"
    }
   },
   "outputs": [
    {
     "ename": "NameError",
     "evalue": "name 'a' is not defined",
     "output_type": "error",
     "traceback": [
      "\u001b[0;31m---------------------------------------------------------------------------\u001b[0m",
      "\u001b[0;31mNameError\u001b[0m                                 Traceback (most recent call last)",
      "\u001b[0;32m<ipython-input-23-fb313d7f8729>\u001b[0m in \u001b[0;36m<module>\u001b[0;34m()\u001b[0m\n\u001b[1;32m      1\u001b[0m \u001b[0;31m# a['Seasons']=a['Seasons'].replace(to_replace=1,value=3,axis=1)\u001b[0m\u001b[0;34m\u001b[0m\u001b[0;34m\u001b[0m\u001b[0m\n\u001b[0;32m----> 2\u001b[0;31m \u001b[0ma\u001b[0m\u001b[0;34m[\u001b[0m\u001b[0;34m'Seasons'\u001b[0m\u001b[0;34m]\u001b[0m\u001b[0;34m[\u001b[0m\u001b[0;34m(\u001b[0m\u001b[0ma\u001b[0m\u001b[0;34m.\u001b[0m\u001b[0mMonth\u001b[0m\u001b[0;34m==\u001b[0m\u001b[0;36m6\u001b[0m\u001b[0;34m)\u001b[0m\u001b[0;34m&\u001b[0m\u001b[0;34m(\u001b[0m\u001b[0ma\u001b[0m\u001b[0;34m.\u001b[0m\u001b[0mYear\u001b[0m\u001b[0;34m==\u001b[0m\u001b[0;36m2012\u001b[0m\u001b[0;34m)\u001b[0m\u001b[0;34m]\u001b[0m\u001b[0;34m\u001b[0m\u001b[0m\n\u001b[0m",
      "\u001b[0;31mNameError\u001b[0m: name 'a' is not defined"
     ]
    }
   ],
   "source": [
    "# a['Seasons']=a['Seasons'].replace(to_replace=1,value=3,axis=1)\n",
    "a['Seasons'][(a.Month==6)&(a.Year==2012)]"
   ]
  },
  {
   "cell_type": "code",
   "execution_count": 24,
   "metadata": {
    "ExecuteTime": {
     "end_time": "2018-04-04T17:43:23.425481Z",
     "start_time": "2018-04-04T17:43:23.394834Z"
    }
   },
   "outputs": [
    {
     "ename": "NameError",
     "evalue": "name 'a' is not defined",
     "output_type": "error",
     "traceback": [
      "\u001b[0;31m---------------------------------------------------------------------------\u001b[0m",
      "\u001b[0;31mNameError\u001b[0m                                 Traceback (most recent call last)",
      "\u001b[0;32m<ipython-input-24-b1a5791f0b00>\u001b[0m in \u001b[0;36m<module>\u001b[0;34m()\u001b[0m\n\u001b[0;32m----> 1\u001b[0;31m \u001b[0;32mfor\u001b[0m \u001b[0mi\u001b[0m \u001b[0;32min\u001b[0m \u001b[0mrange\u001b[0m\u001b[0;34m(\u001b[0m\u001b[0;36m0\u001b[0m\u001b[0;34m,\u001b[0m\u001b[0mlen\u001b[0m\u001b[0;34m(\u001b[0m\u001b[0ma\u001b[0m\u001b[0;34m)\u001b[0m\u001b[0;34m)\u001b[0m\u001b[0;34m:\u001b[0m\u001b[0;34m\u001b[0m\u001b[0m\n\u001b[0m\u001b[1;32m      2\u001b[0m     \u001b[0;32mif\u001b[0m \u001b[0;34m(\u001b[0m\u001b[0;34m(\u001b[0m\u001b[0ma\u001b[0m\u001b[0;34m.\u001b[0m\u001b[0miloc\u001b[0m\u001b[0;34m[\u001b[0m\u001b[0mi\u001b[0m\u001b[0;34m]\u001b[0m\u001b[0;34m[\u001b[0m\u001b[0;34m'Month'\u001b[0m\u001b[0;34m]\u001b[0m\u001b[0;34m==\u001b[0m\u001b[0;36m12\u001b[0m\u001b[0;34m)\u001b[0m\u001b[0;34m|\u001b[0m\u001b[0;34m(\u001b[0m\u001b[0ma\u001b[0m\u001b[0;34m.\u001b[0m\u001b[0miloc\u001b[0m\u001b[0;34m[\u001b[0m\u001b[0mi\u001b[0m\u001b[0;34m]\u001b[0m\u001b[0;34m[\u001b[0m\u001b[0;34m'Month'\u001b[0m\u001b[0;34m]\u001b[0m\u001b[0;34m==\u001b[0m\u001b[0;36m1\u001b[0m\u001b[0;34m)\u001b[0m\u001b[0;34m|\u001b[0m\u001b[0;34m(\u001b[0m\u001b[0ma\u001b[0m\u001b[0;34m.\u001b[0m\u001b[0miloc\u001b[0m\u001b[0;34m[\u001b[0m\u001b[0mi\u001b[0m\u001b[0;34m]\u001b[0m\u001b[0;34m[\u001b[0m\u001b[0;34m'Month'\u001b[0m\u001b[0;34m]\u001b[0m\u001b[0;34m==\u001b[0m\u001b[0;36m2\u001b[0m\u001b[0;34m)\u001b[0m\u001b[0;34m)\u001b[0m\u001b[0;34m:\u001b[0m\u001b[0;34m\u001b[0m\u001b[0m\n\u001b[1;32m      3\u001b[0m         \u001b[0ma\u001b[0m\u001b[0;34m.\u001b[0m\u001b[0miloc\u001b[0m\u001b[0;34m[\u001b[0m\u001b[0mi\u001b[0m\u001b[0;34m]\u001b[0m\u001b[0;34m[\u001b[0m\u001b[0;34m'new'\u001b[0m\u001b[0;34m]\u001b[0m \u001b[0;34m=\u001b[0m \u001b[0;36m4\u001b[0m\u001b[0;34m\u001b[0m\u001b[0m\n\u001b[1;32m      4\u001b[0m     \u001b[0;32melse\u001b[0m \u001b[0;34m:\u001b[0m\u001b[0;34m\u001b[0m\u001b[0m\n\u001b[1;32m      5\u001b[0m         \u001b[0ma\u001b[0m\u001b[0;34m.\u001b[0m\u001b[0miloc\u001b[0m\u001b[0;34m[\u001b[0m\u001b[0mi\u001b[0m\u001b[0;34m]\u001b[0m\u001b[0;34m[\u001b[0m\u001b[0;34m'new'\u001b[0m\u001b[0;34m]\u001b[0m \u001b[0;34m=\u001b[0m \u001b[0;36m0\u001b[0m\u001b[0;34m\u001b[0m\u001b[0m\n",
      "\u001b[0;31mNameError\u001b[0m: name 'a' is not defined"
     ]
    }
   ],
   "source": [
    "for i in range(0,len(a)):\n",
    "    if ((a.iloc[i]['Month']==12)|(a.iloc[i]['Month']==1)|(a.iloc[i]['Month']==2)):\n",
    "        a.iloc[i]['new'] = 4\n",
    "    else : \n",
    "        a.iloc[i]['new'] = 0\n",
    "    print(i)\n",
    "\n"
   ]
  },
  {
   "cell_type": "code",
   "execution_count": 27,
   "metadata": {
    "ExecuteTime": {
     "end_time": "2018-04-11T09:48:46.160457Z",
     "start_time": "2018-04-11T09:48:46.150160Z"
    }
   },
   "outputs": [],
   "source": [
    "#Get the list of results to calculate average MAPE over 12 months\n",
    "def getint(name):\n",
    "    num = name.split('_')[1]\n",
    "    return int(num)\n",
    "\n",
    "# list_of_results.sort()\n",
    "# list_of_results.pop(0)\n",
    "# list_of_results.sort(key=getint)"
   ]
  },
  {
   "cell_type": "code",
   "execution_count": 28,
   "metadata": {
    "ExecuteTime": {
     "end_time": "2018-04-11T09:48:47.272675Z",
     "start_time": "2018-04-11T09:48:47.267089Z"
    }
   },
   "outputs": [],
   "source": [
    "######################################################################################################################\n",
    "  # ONLY RUN THIS TO CONVERT THE XLSX TO CSV WITH MEAN INCLUDED, ENSURE THAT THE LIST CONTAINS ONLY THE RESULT FILES\n",
    "######################################################################################################################\n",
    "# for result_ in list_of_results:\n",
    "#     df = pd.read_excel(path_for_results + result_)\n",
    "#     df['Average'] = df.mean(axis = 1)\n",
    "#     df.to_csv(path_for_results + result_.split('.')[0] + '.csv',sep=',')"
   ]
  },
  {
   "cell_type": "code",
   "execution_count": 83,
   "metadata": {
    "ExecuteTime": {
     "end_time": "2018-04-11T13:14:19.663110Z",
     "start_time": "2018-04-11T13:14:19.539058Z"
    }
   },
   "outputs": [
    {
     "name": "stdout",
     "output_type": "stream",
     "text": [
      "           1         2         3         4         5         6         7  \\\n",
      "gb  2.724710  2.706254  2.567980  2.470405  4.022036  4.920586  4.421953   \n",
      "gb  2.824924  2.607662  2.413979  2.403191  3.833731  4.700311  4.311683   \n",
      "gb  2.734546  2.457419  2.298912  2.338318  3.391800  5.022241  4.304528   \n",
      "gb  2.842405  2.357178  2.205256  2.329596  3.493501  4.871535  4.212816   \n",
      "gb  2.817923  2.276206  2.211993  2.285921  3.191559  4.903862  4.170034   \n",
      "gb  2.948501  2.201134  2.158699  2.267283  3.242559  4.591067  4.062802   \n",
      "gb  2.891992  2.151684  2.087803  2.192126  3.357892  4.506138  4.075592   \n",
      "gb  2.915279  2.020303  2.052008  2.167112  3.315204  4.402976  4.260097   \n",
      "gb  2.904146  1.988433  2.114148  2.209495  3.452238  4.426347  4.269419   \n",
      "gb  2.956518  2.033757  2.085109  2.197431  3.254293  4.571566  4.293234   \n",
      "gb  2.975099  2.208468  2.191568  2.165774  3.320505  4.618692  4.431597   \n",
      "gb  2.915279  2.157324  2.147788  2.161101  3.254003  4.438386  4.481199   \n",
      "gb  2.923308  2.212979  2.159829  2.129289  3.349994  4.502720  4.617875   \n",
      "gb  2.904656  2.313731  2.139388  2.186306  3.602811  4.580234  4.458875   \n",
      "\n",
      "           8         9        10        11        12   Average  \n",
      "gb  5.689305  4.652423  3.532603  3.178339  3.017053  3.658637  \n",
      "gb  5.536012  4.832554  3.181354  2.813347  2.768423  3.518931  \n",
      "gb  5.536262  4.698395  3.732596  2.961246  2.694419  3.514223  \n",
      "gb  5.290598  4.725549  3.428832  3.019541  2.629431  3.450520  \n",
      "gb  5.182199  4.814001  3.911055  3.168468  2.653409  3.465553  \n",
      "gb  5.128009  4.734395  3.587951  3.152723  2.748794  3.401993  \n",
      "gb  4.982797  4.912423  3.635585  3.046296  2.733626  3.381163  \n",
      "gb  5.225201  5.029060  3.685722  3.051077  2.739246  3.405274  \n",
      "gb  5.600800  4.918736  3.671177  2.998592  2.664324  3.434821  \n",
      "gb  5.663066  4.924771  3.744422  3.091028  2.881530  3.474727  \n",
      "gb  5.608410  5.021790  3.795335  3.013170  2.753479  3.508657  \n",
      "gb  5.503500  5.168039  3.980939  3.057122  2.829958  3.507887  \n",
      "gb  5.475125  5.216774  4.169034  3.080897  2.812180  3.554167  \n",
      "gb  5.384187  5.336792  3.715570  3.130627  2.870843  3.552002  \n"
     ]
    }
   ],
   "source": [
    "result_df = pd.DataFrame()\n",
    "result_files = os.listdir(path_for_writing)\n",
    "result_files.remove('.ipynb_checkpoints')\n",
    "result_files.sort(key=getint)\n",
    "\n",
    "for i in result_files:\n",
    "    result_df = result_df.append(pd.read_excel(path_for_writing + i)) \n",
    "result_df['Average'] = result_df.mean(axis = 1)\n",
    "result_df.to_csv('Collated Data/' + 'Final_results_2013' + '.csv',sep=',')\n",
    "print(result_df)"
   ]
  },
  {
   "cell_type": "code",
   "execution_count": 52,
   "metadata": {
    "ExecuteTime": {
     "end_time": "2018-04-11T10:32:40.108105Z",
     "start_time": "2018-04-11T10:32:40.098761Z"
    }
   },
   "outputs": [
    {
     "data": {
      "text/html": [
       "<div>\n",
       "<style>\n",
       "    .dataframe thead tr:only-child th {\n",
       "        text-align: right;\n",
       "    }\n",
       "\n",
       "    .dataframe thead th {\n",
       "        text-align: left;\n",
       "    }\n",
       "\n",
       "    .dataframe tbody tr th {\n",
       "        vertical-align: top;\n",
       "    }\n",
       "</style>\n",
       "<table border=\"1\" class=\"dataframe\">\n",
       "  <thead>\n",
       "    <tr style=\"text-align: right;\">\n",
       "      <th></th>\n",
       "    </tr>\n",
       "  </thead>\n",
       "  <tbody>\n",
       "  </tbody>\n",
       "</table>\n",
       "</div>"
      ],
      "text/plain": [
       "Empty DataFrame\n",
       "Columns: []\n",
       "Index: []"
      ]
     },
     "execution_count": 52,
     "metadata": {},
     "output_type": "execute_result"
    }
   ],
   "source": [
    "result_df"
   ]
  },
  {
   "cell_type": "code",
   "execution_count": 23,
   "metadata": {
    "ExecuteTime": {
     "end_time": "2018-04-14T12:56:30.773038Z",
     "start_time": "2018-04-14T12:56:30.767075Z"
    }
   },
   "outputs": [
    {
     "data": {
      "text/plain": [
       "dict_values([[1, 1, 1, 1, 1, 1, 1], [20, 18, 17, 16, 15, 20, 2], [3, 2, 1, 7, 5, 4, 10], [8, 14, 13, 12, 10, 9, 9], [22, 28, 27, 26, 24, 23, 11], [25, 25, 25, 25, 25, 25, 12]])"
      ]
     },
     "execution_count": 23,
     "metadata": {},
     "output_type": "execute_result"
    }
   ],
   "source": [
    "hols.values()"
   ]
  },
  {
   "cell_type": "code",
   "execution_count": 28,
   "metadata": {
    "ExecuteTime": {
     "end_time": "2018-04-14T12:57:20.880478Z",
     "start_time": "2018-04-14T12:57:20.873087Z"
    }
   },
   "outputs": [
    {
     "name": "stdout",
     "output_type": "stream",
     "text": [
      "[1, 1, 1, 1, 1, 1]\n",
      "[20, 18, 17, 16, 15, 20]\n",
      "[3, 2, 1, 7, 5, 4]\n",
      "[8, 14, 13, 12, 10, 9]\n",
      "[22, 28, 27, 26, 24, 23]\n",
      "[25, 25, 25, 25, 25, 25]\n"
     ]
    }
   ],
   "source": [
    "for i in hols.values():\n",
    "    print (i[:6])"
   ]
  },
  {
   "cell_type": "code",
   "execution_count": 29,
   "metadata": {
    "ExecuteTime": {
     "end_time": "2018-04-14T13:00:59.156830Z",
     "start_time": "2018-04-14T13:00:59.148527Z"
    }
   },
   "outputs": [
    {
     "data": {
      "text/plain": [
       "{'chris': [25, 25, 25, 25, 25, 25, 12],\n",
       " 'col_day': [8, 14, 13, 12, 10, 9, 9],\n",
       " 'lab_day': [3, 2, 1, 7, 5, 4, 10],\n",
       " 'new_year': [1, 1, 1, 1, 1, 1, 1],\n",
       " 'pres_day': [20, 18, 17, 16, 15, 20, 2],\n",
       " 'thanks_day': [22, 28, 27, 26, 24, 23, 11]}"
      ]
     },
     "execution_count": 29,
     "metadata": {},
     "output_type": "execute_result"
    }
   ],
   "source": [
    "hols"
   ]
  },
  {
   "cell_type": "code",
   "execution_count": 32,
   "metadata": {
    "ExecuteTime": {
     "end_time": "2018-04-14T13:04:10.922904Z",
     "start_time": "2018-04-14T13:04:10.916542Z"
    }
   },
   "outputs": [
    {
     "data": {
      "text/plain": [
       "0"
      ]
     },
     "execution_count": 32,
     "metadata": {},
     "output_type": "execute_result"
    }
   ],
   "source": [
    "years.index(2012)"
   ]
  },
  {
   "cell_type": "code",
   "execution_count": 68,
   "metadata": {
    "ExecuteTime": {
     "end_time": "2018-04-14T13:16:12.342022Z",
     "start_time": "2018-04-14T13:16:12.335642Z"
    }
   },
   "outputs": [
    {
     "name": "stdout",
     "output_type": "stream",
     "text": [
      "1\n",
      "2\n",
      "10\n",
      "9\n",
      "11\n",
      "12\n"
     ]
    }
   ],
   "source": [
    "for hol in hols.values():\n",
    "    print(hol[6])"
   ]
  },
  {
   "cell_type": "code",
   "execution_count": 18,
   "metadata": {
    "ExecuteTime": {
     "end_time": "2018-05-27T07:05:21.987699Z",
     "start_time": "2018-05-27T07:05:21.972290Z"
    }
   },
   "outputs": [
    {
     "data": {
      "text/plain": [
       "array([ 4862.6,  4666.3,  4508.6,  4416.4,  4378.9,  4410.3,  4492.5,\n",
       "        4596.4,  4756.9,  4909.8,  5030. ,  5098.1,  5119. ,  5110.4,\n",
       "        5105.7,  5112.2,  5240.2,  5457.7,  5446.5,  5407.3,  5369.5,\n",
       "        5323.2,  5178.7,  4965.5])"
      ]
     },
     "execution_count": 18,
     "metadata": {},
     "output_type": "execute_result"
    }
   ],
   "source": [
    "array = df[(df.Year==2016) & (df.Month==12) & (df.Day==25)]['N.Y.C.'].values\n",
    "array"
   ]
  },
  {
   "cell_type": "code",
   "execution_count": 54,
   "metadata": {
    "ExecuteTime": {
     "end_time": "2018-05-27T07:23:11.671378Z",
     "start_time": "2018-05-27T07:23:11.403958Z"
    }
   },
   "outputs": [
    {
     "data": {
      "image/png": "[encoded data removed]",
      "text/plain": [
       "<matplotlib.figure.Figure at 0x7fdee5e1bb00>"
      ]
     },
     "metadata": {},
     "output_type": "display_data"
    }
   ],
   "source": [
    "for i in range(2017,2018):\n",
    "    plt.plot(df[(df.Year==i) & (df.Month==1) & (df.Day==1)]['N.Y.C.'].values, label = 'Jan 1 2017')\n",
    "    plt.plot(df[(df.Year==i-1) & (df.Month==12) & (df.Day==31)]['N.Y.C.'].values, label = 'Dec 31 2017')\n",
    "    plt.plot(df[(df.Year==i-1) & (df.Month==12) & (df.Day==30)]['N.Y.C.'].values, label = 'Dec 30 2017')\n",
    "    plt.plot(df[(df.Year==i-1) & (df.Month==1) & (df.Day==1)]['N.Y.C.'].values, label = 'Jan 1 2016')\n",
    "    plt.legend(loc = 'lower right')\n",
    "plt.show()\n"
   ]
  },
  {
   "cell_type": "code",
   "execution_count": null,
   "metadata": {},
   "outputs": [],
   "source": []
  }
 ],
 "metadata": {
  "kernelspec": {
   "display_name": "Python 3",
   "language": "python",
   "name": "python3"
  },
  "language_info": {
   "codemirror_mode": {
    "name": "ipython",
    "version": 3
   },
   "file_extension": ".py",
   "mimetype": "text/x-python",
   "name": "python",
   "nbconvert_exporter": "python",
   "pygments_lexer": "ipython3",
   "version": "3.6.4"
  }
 },
 "nbformat": 4,
 "nbformat_minor": 2
}
